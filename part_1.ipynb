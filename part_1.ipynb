{
 "cells": [
  {
   "cell_type": "code",
   "execution_count": 1,
   "metadata": {},
   "outputs": [],
   "source": [
    "import torch\n",
    "import numpy as np\n",
    "import torch.nn as nn\n"
   ]
  },
  {
   "cell_type": "markdown",
   "metadata": {},
   "source": [
    "### Part 1. Pytorch Tutorial for Beginners\n"
   ]
  },
  {
   "cell_type": "markdown",
   "metadata": {},
   "source": [
    "---\n",
    "\n",
    "#### 1. torch.Tensor\n",
    "\n",
    "---\n"
   ]
  },
  {
   "cell_type": "code",
   "execution_count": 2,
   "metadata": {},
   "outputs": [
    {
     "data": {
      "text/plain": [
       "(tensor([[0.7731, 0.2637, 0.7758],\n",
       "         [0.6063, 0.7716, 0.1953],\n",
       "         [0.0136, 0.2960, 0.2343]]),\n",
       " tensor([[-1.3556, -1.0657, -0.6509],\n",
       "         [-0.2942, -0.1041,  0.6442],\n",
       "         [ 0.5948,  1.4590, -1.9966]]))"
      ]
     },
     "execution_count": 2,
     "metadata": {},
     "output_type": "execute_result"
    }
   ],
   "source": [
    "uniform_tensor = torch.rand(3, 3)\n",
    "normal_tensor = torch.randn(3, 3)\n",
    "uniform_tensor, normal_tensor"
   ]
  },
  {
   "cell_type": "code",
   "execution_count": 3,
   "metadata": {},
   "outputs": [
    {
     "data": {
      "text/plain": [
       "(tensor([[1., 1., 1.],\n",
       "         [1., 1., 1.],\n",
       "         [1., 1., 1.]]),\n",
       " tensor([[0., 0., 0.],\n",
       "         [0., 0., 0.],\n",
       "         [0., 0., 0.]]))"
      ]
     },
     "execution_count": 3,
     "metadata": {},
     "output_type": "execute_result"
    }
   ],
   "source": [
    "ones_tensor = torch.ones(3, 3)\n",
    "zeros_tensor = torch.zeros(3, 3)\n",
    "ones_tensor, zeros_tensor"
   ]
  },
  {
   "cell_type": "code",
   "execution_count": 4,
   "metadata": {},
   "outputs": [
    {
     "data": {
      "text/plain": [
       "tensor([[1., 0., 0.],\n",
       "        [0., 1., 0.],\n",
       "        [0., 0., 1.]])"
      ]
     },
     "execution_count": 4,
     "metadata": {},
     "output_type": "execute_result"
    }
   ],
   "source": [
    "identity_tensor = torch.eye(3, 3)\n",
    "identity_tensor"
   ]
  },
  {
   "cell_type": "code",
   "execution_count": 5,
   "metadata": {},
   "outputs": [
    {
     "data": {
      "text/plain": [
       "tensor([[-1.6729,  0.5461,  1.2310],\n",
       "        [-0.3466, -0.1412,  0.0225],\n",
       "        [ 1.4155, -0.0139, -0.8034]], dtype=torch.float64)"
      ]
     },
     "execution_count": 5,
     "metadata": {},
     "output_type": "execute_result"
    }
   ],
   "source": [
    "tensor_from_array = torch.from_numpy(np.random.randn(3, 3))\n",
    "tensor_from_array"
   ]
  },
  {
   "cell_type": "markdown",
   "metadata": {},
   "source": [
    "---\n",
    "\n",
    "#### 2. matrix multiplication\n",
    "\n",
    "---\n"
   ]
  },
  {
   "cell_type": "code",
   "execution_count": 6,
   "metadata": {},
   "outputs": [
    {
     "data": {
      "text/plain": [
       "(tensor([[-0.6641,  0.2805, -1.8823],\n",
       "         [-0.9327, -0.4415, -0.2876],\n",
       "         [ 0.0339,  0.2965, -0.2859]]),\n",
       " tensor([[-1.0480, -0.2810, -0.5049],\n",
       "         [-0.1784, -0.0803,  0.1258],\n",
       "         [ 0.0081,  0.4319, -0.4678]]))"
      ]
     },
     "execution_count": 6,
     "metadata": {},
     "output_type": "execute_result"
    }
   ],
   "source": [
    "matrix_multiplication = mul = torch.mm(uniform_tensor, normal_tensor)\n",
    "element_wise = uniform_tensor * normal_tensor\n",
    "matrix_multiplication, element_wise\n"
   ]
  },
  {
   "cell_type": "markdown",
   "metadata": {},
   "source": [
    "---\n",
    "\n",
    "#### 3. differentiation (AutoGrad)\n",
    "\n",
    "---\n"
   ]
  },
  {
   "cell_type": "code",
   "execution_count": 7,
   "metadata": {},
   "outputs": [],
   "source": [
    "x1 = torch.tensor([2.0], requires_grad=True)\n",
    "x2 = torch.tensor([2.0], requires_grad=True)\n",
    "x3 = torch.tensor([2.0], requires_grad=True)\n",
    "z1 = x1\n",
    "z2 = x2**2\n",
    "z3 = x3**3"
   ]
  },
  {
   "cell_type": "code",
   "execution_count": 8,
   "metadata": {},
   "outputs": [],
   "source": [
    "z1.backward()\n",
    "z2.backward()\n",
    "z3.backward()\n"
   ]
  },
  {
   "cell_type": "code",
   "execution_count": 9,
   "metadata": {},
   "outputs": [
    {
     "name": "stdout",
     "output_type": "stream",
     "text": [
      "dz1/dx1 evaluated in 2.0: 1.0\n",
      "dz2/dx2 evaluated in 2.0: 4.0\n",
      "dz3/dx3 evaluated in 2.0: 12.0\n"
     ]
    }
   ],
   "source": [
    "print(f\"dz1/dx1 evaluated in {x1.item()}: {x1.grad.item()}\")  # dz1/dx = 2\n",
    "print(f\"dz2/dx2 evaluated in {x2.item()}: {x2.grad.item()}\")  # dz2/dx = 2 * 2\n",
    "print(f\"dz3/dx3 evaluated in {x3.item()}: {x3.grad.item()}\")  # dz3/dx = 3 * 4"
   ]
  },
  {
   "cell_type": "markdown",
   "metadata": {},
   "source": [
    "---\n",
    "\n",
    "#### 4. neural network\n",
    "\n",
    "---\n"
   ]
  },
  {
   "cell_type": "code",
   "execution_count": 10,
   "metadata": {},
   "outputs": [],
   "source": [
    "input_layers = 10\n",
    "hidden_layers = 20\n",
    "output_layers = 5\n",
    "\n",
    "\n",
    "class Net(nn.Module):\n",
    "    def __init__(self):\n",
    "        super(Net, self).__init__()\n",
    "        self.fc1 = nn.Linear(input_layers, hidden_layers)\n",
    "        self.fc2 = nn.Linear(hidden_layers, hidden_layers)\n",
    "        self.out = nn.Linear(hidden_layers, output_layers)\n",
    "\n",
    "    def forward(self, x):\n",
    "        x = self.fc1(x)\n",
    "        x = self.fc2(x)\n",
    "        x = self.out(x)\n",
    "        return x\n"
   ]
  },
  {
   "cell_type": "code",
   "execution_count": 11,
   "metadata": {},
   "outputs": [
    {
     "data": {
      "text/plain": [
       "(tensor([-0.1469, -1.4569,  0.2845, -0.9110,  0.7376,  0.3580,  2.0266, -0.5681,\n",
       "          1.1883, -0.8960]),\n",
       " tensor([-0.2467, -0.0319,  0.1419,  0.1633, -0.2286], grad_fn=<AddBackward0>))"
      ]
     },
     "execution_count": 11,
     "metadata": {},
     "output_type": "execute_result"
    }
   ],
   "source": [
    "input = torch.randn(10)\n",
    "net = Net()\n",
    "output = net(input)\n",
    "input, output\n"
   ]
  },
  {
   "cell_type": "code",
   "execution_count": null,
   "metadata": {},
   "outputs": [],
   "source": []
  }
 ],
 "metadata": {
  "kernelspec": {
   "display_name": "Python 3.10.6 ('torch')",
   "language": "python",
   "name": "python3"
  },
  "language_info": {
   "codemirror_mode": {
    "name": "ipython",
    "version": 3
   },
   "file_extension": ".py",
   "mimetype": "text/x-python",
   "name": "python",
   "nbconvert_exporter": "python",
   "pygments_lexer": "ipython3",
   "version": "3.10.6"
  },
  "orig_nbformat": 4,
  "vscode": {
   "interpreter": {
    "hash": "820e22f10e4b19fbc91e692a62b2bf108cd15a872c46ef2b111e4a3b5d5b7eed"
   }
  }
 },
 "nbformat": 4,
 "nbformat_minor": 2
}
